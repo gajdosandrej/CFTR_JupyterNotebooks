{
 "cells": [
  {
   "cell_type": "markdown",
   "metadata": {},
   "source": [
    "**Author:** Branislav Lacovič  <br> \n",
    "email: [branislavlacovic@gmail.com](mailto:branislavlacovic@gmail.com) <br>\n",
    "jupyter notebooks based on [CharFunTool](https://github.com/witkovsky/CharFunTool/tree/master/Examples) by Viktor Witkovský\n",
    "*** \n",
    "\n",
    "**<font size=6 color=blue> CharFunToolR - Jupyter notebooks with interactive examples </font>**"
   ]
  },
  {
   "cell_type": "markdown",
   "metadata": {},
   "source": [
    "* [Discrete distributions](Discrete.ipynb?flush_cache=true)  \n",
    "\n",
    "\n",
    "* [Empirical distributions](Empirical.ipynb?flush_cache=true) "
   ]
  }
 ],
 "metadata": {
  "kernelspec": {
   "display_name": "R",
   "language": "R",
   "name": "ir"
  },
  "language_info": {
   "codemirror_mode": "r",
   "file_extension": ".r",
   "mimetype": "text/x-r-source",
   "name": "R",
   "pygments_lexer": "r",
   "version": "3.6.0"
  },
  "varInspector": {
   "cols": {
    "lenName": 16,
    "lenType": 16,
    "lenVar": 40
   },
   "kernels_config": {
    "python": {
     "delete_cmd_postfix": "",
     "delete_cmd_prefix": "del ",
     "library": "var_list.py",
     "varRefreshCmd": "print(var_dic_list())"
    },
    "r": {
     "delete_cmd_postfix": ") ",
     "delete_cmd_prefix": "rm(",
     "library": "var_list.r",
     "varRefreshCmd": "cat(var_dic_list()) "
    }
   },
   "types_to_exclude": [
    "module",
    "function",
    "builtin_function_or_method",
    "instance",
    "_Feature"
   ],
   "window_display": false
  }
 },
 "nbformat": 4,
 "nbformat_minor": 2
}
